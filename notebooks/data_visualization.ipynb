{
 "cells": [
  {
   "cell_type": "markdown",
   "id": "10a78afb",
   "metadata": {},
   "source": [
    "# Intro\n",
    "\n",
    "This is a simple notebook used to visualize the data we have from the project. We will investigate how the synthesized hearts look and visualize the heartbeat"
   ]
  },
  {
   "cell_type": "code",
   "execution_count": 11,
   "id": "aa364b3a",
   "metadata": {},
   "outputs": [],
   "source": [
    "import pandas as pd\n",
    "import numpy as np\n",
    "import seaborn as sns\n",
    "import matplotlib.pyplot as plt\n",
    "import plotly.express as px\n",
    "import plotly.graph_objects as go\n",
    "import os"
   ]
  },
  {
   "cell_type": "code",
   "execution_count": 13,
   "id": "80e5dffe",
   "metadata": {},
   "outputs": [
    {
     "name": "stdout",
     "output_type": "stream",
     "text": [
      "Type: <class 'numpy.ndarray'>\n",
      "Shape: (10, 18000, 4)\n",
      "Dtype: float64\n",
      "First elements:\n",
      " [[[-20.157444    17.62280464   8.63055611   2.        ]\n",
      "  [-20.09103012  17.62147141   8.63197422   2.        ]\n",
      "  [-20.10420418  17.62444115   8.61793327   2.        ]\n",
      "  ...\n",
      "  [-17.84309578 -33.76960754  53.19683838   1.        ]\n",
      "  [-16.25856209 -35.0315094   57.05285645   1.        ]\n",
      "  [-15.38268089 -35.53833008  59.0874176    1.        ]]\n",
      "\n",
      " [[-19.19090843  17.49430275   9.2532053    2.        ]\n",
      "  [-19.11496544  17.52137566   9.26454735   2.        ]\n",
      "  [-19.10906029  17.52939224   9.25193214   2.        ]\n",
      "  ...\n",
      "  [-17.47473717 -31.39459229  49.87592697   1.        ]\n",
      "  [-16.00337601 -32.55651855  53.38047791   1.        ]\n",
      "  [-15.19591618 -32.96632385  55.38721085   1.        ]]\n",
      "\n",
      " [[-18.31469727  14.26771927   9.15201092   2.        ]\n",
      "  [-18.25457001  14.28464699   9.16969109   2.        ]\n",
      "  [-18.26982689  14.30463123   9.16434383   2.        ]\n",
      "  ...\n",
      "  [-15.94193745 -30.95698738  48.01264954   1.        ]\n",
      "  [-14.57278061 -32.05200958  51.28705597   1.        ]\n",
      "  [-13.81563377 -32.41942215  53.25785828   1.        ]]\n",
      "\n",
      " [[-17.53883934  14.00244427   9.49431133   2.        ]\n",
      "  [-17.50954819  14.00059414   9.5364275    2.        ]\n",
      "  [-17.52070427  14.00527859   9.52927303   2.        ]\n",
      "  ...\n",
      "  [-16.4413147  -30.037714    44.85349655   1.        ]\n",
      "  [-15.13333416 -31.03927994  47.995224     1.        ]\n",
      "  [-14.42399406 -31.48902702  49.87114716   1.        ]]\n",
      "\n",
      " [[-17.71179771  16.30875587   9.09440136   2.        ]\n",
      "  [-17.64639664  16.29671669   9.10037327   2.        ]\n",
      "  [-17.66711617  16.25181198   9.07701969   2.        ]\n",
      "  ...\n",
      "  [-16.20944786 -30.77670097  49.18190765   1.        ]\n",
      "  [-14.94073868 -32.02005386  52.63594055   1.        ]\n",
      "  [-14.48859215 -32.48364258  54.4731369    1.        ]]]\n"
     ]
    }
   ],
   "source": [
    "file_path = \"../data/training_data/mixed_samples/0healthy.npy\"\n",
    "\n",
    "# Load it\n",
    "data_1 = np.load(file_path)\n",
    "\n",
    "# Print basic info\n",
    "print(\"Type:\", type(data))\n",
    "print(\"Shape:\", data.shape)\n",
    "print(\"Dtype:\", data.dtype)\n",
    "\n",
    "# Show first few values\n",
    "print(\"First elements:\\n\", data[:5])"
   ]
  },
  {
   "cell_type": "code",
   "execution_count": 14,
   "id": "d8c90007",
   "metadata": {},
   "outputs": [],
   "source": [
    "frame0 = data_1[0]         # shape (18000, 4)\n",
    "xyz = frame0[:, :3]"
   ]
  },
  {
   "cell_type": "code",
   "execution_count": 17,
   "id": "043fccf7",
   "metadata": {},
   "outputs": [
    {
     "ename": "ValueError",
     "evalue": "Mime type rendering requires nbformat>=4.2.0 but it is not installed",
     "output_type": "error",
     "traceback": [
      "\u001b[31m---------------------------------------------------------------------------\u001b[39m",
      "\u001b[31mValueError\u001b[39m                                Traceback (most recent call last)",
      "\u001b[36mCell\u001b[39m\u001b[36m \u001b[39m\u001b[32mIn[17]\u001b[39m\u001b[32m, line 9\u001b[39m\n\u001b[32m      7\u001b[39m fig.update_traces(marker=\u001b[38;5;28mdict\u001b[39m(size=\u001b[32m2\u001b[39m))\n\u001b[32m      8\u001b[39m fig.update_layout(scene=\u001b[38;5;28mdict\u001b[39m(aspectmode=\u001b[33m'\u001b[39m\u001b[33mdata\u001b[39m\u001b[33m'\u001b[39m))  \u001b[38;5;66;03m# keep equal aspect\u001b[39;00m\n\u001b[32m----> \u001b[39m\u001b[32m9\u001b[39m \u001b[43mfig\u001b[49m\u001b[43m.\u001b[49m\u001b[43mshow\u001b[49m\u001b[43m(\u001b[49m\u001b[43m)\u001b[49m\n",
      "\u001b[36mFile \u001b[39m\u001b[32m~/MT/Week 3/Myocardial-infaction-prediction/.venv/lib/python3.13/site-packages/plotly/basedatatypes.py:3420\u001b[39m, in \u001b[36mBaseFigure.show\u001b[39m\u001b[34m(self, *args, **kwargs)\u001b[39m\n\u001b[32m   3387\u001b[39m \u001b[38;5;250m\u001b[39m\u001b[33;03m\"\"\"\u001b[39;00m\n\u001b[32m   3388\u001b[39m \u001b[33;03mShow a figure using either the default renderer(s) or the renderer(s)\u001b[39;00m\n\u001b[32m   3389\u001b[39m \u001b[33;03mspecified by the renderer argument\u001b[39;00m\n\u001b[32m   (...)\u001b[39m\u001b[32m   3416\u001b[39m \u001b[33;03mNone\u001b[39;00m\n\u001b[32m   3417\u001b[39m \u001b[33;03m\"\"\"\u001b[39;00m\n\u001b[32m   3418\u001b[39m \u001b[38;5;28;01mimport\u001b[39;00m\u001b[38;5;250m \u001b[39m\u001b[34;01mplotly\u001b[39;00m\u001b[34;01m.\u001b[39;00m\u001b[34;01mio\u001b[39;00m\u001b[38;5;250m \u001b[39m\u001b[38;5;28;01mas\u001b[39;00m\u001b[38;5;250m \u001b[39m\u001b[34;01mpio\u001b[39;00m\n\u001b[32m-> \u001b[39m\u001b[32m3420\u001b[39m \u001b[38;5;28;01mreturn\u001b[39;00m \u001b[43mpio\u001b[49m\u001b[43m.\u001b[49m\u001b[43mshow\u001b[49m\u001b[43m(\u001b[49m\u001b[38;5;28;43mself\u001b[39;49m\u001b[43m,\u001b[49m\u001b[43m \u001b[49m\u001b[43m*\u001b[49m\u001b[43margs\u001b[49m\u001b[43m,\u001b[49m\u001b[43m \u001b[49m\u001b[43m*\u001b[49m\u001b[43m*\u001b[49m\u001b[43mkwargs\u001b[49m\u001b[43m)\u001b[49m\n",
      "\u001b[36mFile \u001b[39m\u001b[32m~/MT/Week 3/Myocardial-infaction-prediction/.venv/lib/python3.13/site-packages/plotly/io/_renderers.py:415\u001b[39m, in \u001b[36mshow\u001b[39m\u001b[34m(fig, renderer, validate, **kwargs)\u001b[39m\n\u001b[32m    410\u001b[39m     \u001b[38;5;28;01mraise\u001b[39;00m \u001b[38;5;167;01mValueError\u001b[39;00m(\n\u001b[32m    411\u001b[39m         \u001b[33m\"\u001b[39m\u001b[33mMime type rendering requires ipython but it is not installed\u001b[39m\u001b[33m\"\u001b[39m\n\u001b[32m    412\u001b[39m     )\n\u001b[32m    414\u001b[39m \u001b[38;5;28;01mif\u001b[39;00m \u001b[38;5;129;01mnot\u001b[39;00m nbformat \u001b[38;5;129;01mor\u001b[39;00m Version(nbformat.__version__) < Version(\u001b[33m\"\u001b[39m\u001b[33m4.2.0\u001b[39m\u001b[33m\"\u001b[39m):\n\u001b[32m--> \u001b[39m\u001b[32m415\u001b[39m     \u001b[38;5;28;01mraise\u001b[39;00m \u001b[38;5;167;01mValueError\u001b[39;00m(\n\u001b[32m    416\u001b[39m         \u001b[33m\"\u001b[39m\u001b[33mMime type rendering requires nbformat>=4.2.0 but it is not installed\u001b[39m\u001b[33m\"\u001b[39m\n\u001b[32m    417\u001b[39m     )\n\u001b[32m    419\u001b[39m display_jupyter_version_warnings()\n\u001b[32m    421\u001b[39m ipython_display.display(bundle, raw=\u001b[38;5;28;01mTrue\u001b[39;00m)\n",
      "\u001b[31mValueError\u001b[39m: Mime type rendering requires nbformat>=4.2.0 but it is not installed"
     ]
    }
   ],
   "source": [
    "fig = px.scatter_3d(\n",
    "    x=xyz[:, 0], y=xyz[:, 1], z=xyz[:, 2],\n",
    "    title=\"First frame (3D scatter) - interactive\",\n",
    "    height=800, width=900,\n",
    "    opacity=0.7\n",
    ")\n",
    "fig.update_traces(marker=dict(size=2))\n",
    "fig.update_layout(scene=dict(aspectmode='data'))  # keep equal aspect\n",
    "fig.show()"
   ]
  },
  {
   "cell_type": "code",
   "execution_count": null,
   "id": "db2b3029",
   "metadata": {},
   "outputs": [],
   "source": []
  }
 ],
 "metadata": {
  "kernelspec": {
   "display_name": ".venv (3.13.7)",
   "language": "python",
   "name": "python3"
  },
  "language_info": {
   "codemirror_mode": {
    "name": "ipython",
    "version": 3
   },
   "file_extension": ".py",
   "mimetype": "text/x-python",
   "name": "python",
   "nbconvert_exporter": "python",
   "pygments_lexer": "ipython3",
   "version": "3.13.7"
  }
 },
 "nbformat": 4,
 "nbformat_minor": 5
}
